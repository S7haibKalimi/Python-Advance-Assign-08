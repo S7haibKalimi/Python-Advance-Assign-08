{
 "cells": [
  {
   "cell_type": "markdown",
   "id": "97755b64",
   "metadata": {},
   "source": [
    "# Q1. What are the two latest user-defined exception constraints in Python 3.X?"
   ]
  },
  {
   "cell_type": "markdown",
   "id": "dffb9e76",
   "metadata": {},
   "source": [
    "raise Exception\n",
    "\n",
    "try except"
   ]
  },
  {
   "cell_type": "markdown",
   "id": "07e44162",
   "metadata": {},
   "source": [
    "# Q2. How are class-based exceptions that have been raised matched to handlers?"
   ]
  },
  {
   "cell_type": "markdown",
   "id": "f1f41e8f",
   "metadata": {},
   "source": [
    "By using the respective keywords, so that python may unserstand what to stop at the time of execution If we have defined the error statement into a class, it is required to the class too."
   ]
  },
  {
   "cell_type": "markdown",
   "id": "75f94aad",
   "metadata": {},
   "source": [
    "# Q3. Describe two methods for attaching context information to exception artefacts."
   ]
  },
  {
   "cell_type": "markdown",
   "id": "67d9432d",
   "metadata": {},
   "source": [
    "1). Simply by using the command raise ecxception as e and print the useful information in it.\n",
    "\n",
    "2). By using logging"
   ]
  },
  {
   "cell_type": "markdown",
   "id": "acb53932",
   "metadata": {},
   "source": [
    "# Q4. Describe two methods for specifying the text of an exception object's error message."
   ]
  },
  {
   "cell_type": "markdown",
   "id": "f97ca56a",
   "metadata": {},
   "source": [
    "getMessage()method and toString() method."
   ]
  },
  {
   "cell_type": "markdown",
   "id": "ec377d18",
   "metadata": {},
   "source": [
    "# Q5. Why do you no longer use string-based exceptions?"
   ]
  },
  {
   "cell_type": "markdown",
   "id": "5a79e3ca",
   "metadata": {},
   "source": [
    "because it was not much user friendly."
   ]
  },
  {
   "cell_type": "code",
   "execution_count": null,
   "id": "09ed97c2",
   "metadata": {},
   "outputs": [],
   "source": []
  }
 ],
 "metadata": {
  "kernelspec": {
   "display_name": "Python 3 (ipykernel)",
   "language": "python",
   "name": "python3"
  },
  "language_info": {
   "codemirror_mode": {
    "name": "ipython",
    "version": 3
   },
   "file_extension": ".py",
   "mimetype": "text/x-python",
   "name": "python",
   "nbconvert_exporter": "python",
   "pygments_lexer": "ipython3",
   "version": "3.9.12"
  }
 },
 "nbformat": 4,
 "nbformat_minor": 5
}
